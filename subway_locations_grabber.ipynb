{
 "cells": [
  {
   "cell_type": "code",
   "execution_count": null,
   "metadata": {},
   "outputs": [],
   "source": [
    "import http.client, urllib.request, urllib.parse, urllib.error, base64, json\n",
    "import pandas as pd\n",
    "metro_api_key = {'api_key':'b62fe5a2b0be42a688390dd6916e040a'}\n",
    "\n",
    "def code_request(line_code):\n",
    "    params = urllib.parse.urlencode({\n",
    "        # Request parameters\n",
    "        'LineCode': line_code,\n",
    "    })\n",
    "\n",
    "    try:\n",
    "        conn = http.client.HTTPSConnection('api.wmata.com')\n",
    "        conn.request(\"GET\", \"/Rail.svc/json/jStations?%s\" % params, \"{body}\", metro_api_key)\n",
    "        response = conn.getresponse()\n",
    "        data = response.read()\n",
    "        red = json.loads(data)\n",
    "        conn.close()\n",
    "        return pd.DataFrame(red)['Stations'].apply(lambda x: [x['Lat'], x['Lon'], x['Name'], x['Code']])\n",
    "    except Exception as e:\n",
    "        print(\"[Errno {0}] {1}\".format(e.errno, e.strerror))\n",
    "# [x['Code'],x['Name'],x['Zip']\n",
    "red = pd.DataFrame(code_request('RD').tolist(), columns=['Lat','Lon', 'Name', 'Code'])\n",
    "yellow = pd.DataFrame(code_request('YL').tolist(), columns=['Lat','Lon', 'Name', 'Code'])\n",
    "green = pd.DataFrame(code_request('GR').tolist(), columns=['Lat','Lon', 'Name', 'Code'])\n",
    "blue = pd.DataFrame(code_request('BL').tolist(), columns=['Lat','Lon', 'Name', 'Code'])\n",
    "orange = pd.DataFrame(code_request('OR').tolist(), columns=['Lat','Lon', 'Name', 'Code'])\n",
    "silver = pd.DataFrame(code_request('SV').tolist(), columns=['Lat','Lon', 'Name', 'Code'])\n",
    "\n",
    "subways = pd.concat([red,yellow,green,blue,orange,silver]).drop_duplicates().reset_index()\n",
    "subways.to_pickle('subway_locations')"
   ]
  }
 ],
 "metadata": {
  "kernelspec": {
   "display_name": "Python 3",
   "language": "python",
   "name": "python3"
  },
  "language_info": {
   "codemirror_mode": {
    "name": "ipython",
    "version": 3
   },
   "file_extension": ".py",
   "mimetype": "text/x-python",
   "name": "python",
   "nbconvert_exporter": "python",
   "pygments_lexer": "ipython3",
   "version": "3.6.4"
  }
 },
 "nbformat": 4,
 "nbformat_minor": 2
}
