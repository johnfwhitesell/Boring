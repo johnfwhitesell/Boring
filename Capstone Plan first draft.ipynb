{
 "cells": [
  {
   "cell_type": "markdown",
   "metadata": {},
   "source": [
    "My objective is to answer the question \"where does the DC metro area need more transportation connects?\"\n",
    "\n",
    "The method I intend to use to answer this is making a census-tract to census-tract transportation model that will cover the DC metro area.  This model will make use of American Community Survey data on census-tract level commuting patterns, Google maps API data on routes and Federal Highway Administration data on traffic along major roads.  These will be used to make a model that will estimate the level of traffic generated along routes by commuters going from one census tract to the other.  With that model it will be possible to find which new transportation routes will do the most to alleviate traffic."
   ]
  },
  {
   "cell_type": "markdown",
   "metadata": {},
   "source": [
    "the tract-tract data will come from here: https://github.com/DataUSA/datausa-api/wiki/Data-API#yg_transport"
   ]
  },
  {
   "cell_type": "markdown",
   "metadata": {},
   "source": [
    "The traffic volume data will come from here: https://www.fhwa.dot.gov/policyinformation/tables/tmasdata/"
   ]
  },
  {
   "cell_type": "code",
   "execution_count": 1,
   "metadata": {},
   "outputs": [],
   "source": [
    "# Imports at the top.\n",
    "import json\n",
    "import urllib\n",
    "import pandas as pd\n",
    "import numpy as np\n",
    "import requests\n",
    "import json\n",
    "import re\n",
    "import matplotlib.pyplot as plt\n",
    "%matplotlib inline"
   ]
  },
  {
   "cell_type": "code",
   "execution_count": 2,
   "metadata": {},
   "outputs": [
    {
     "data": {
      "text/html": [
       "<div>\n",
       "<style scoped>\n",
       "    .dataframe tbody tr th:only-of-type {\n",
       "        vertical-align: middle;\n",
       "    }\n",
       "\n",
       "    .dataframe tbody tr th {\n",
       "        vertical-align: top;\n",
       "    }\n",
       "\n",
       "    .dataframe thead th {\n",
       "        text-align: right;\n",
       "    }\n",
       "</style>\n",
       "<table border=\"1\" class=\"dataframe\">\n",
       "  <thead>\n",
       "    <tr style=\"text-align: right;\">\n",
       "      <th></th>\n",
       "      <th>year</th>\n",
       "      <th>geo</th>\n",
       "      <th>transport_bicycle</th>\n",
       "      <th>transport_carpooled</th>\n",
       "      <th>transport_drove</th>\n",
       "      <th>transport_motorcycle</th>\n",
       "      <th>transport_other</th>\n",
       "      <th>transport_publictrans</th>\n",
       "      <th>transport_taxi</th>\n",
       "      <th>transport_walked</th>\n",
       "      <th>transport_home</th>\n",
       "      <th>workers</th>\n",
       "    </tr>\n",
       "  </thead>\n",
       "  <tbody>\n",
       "    <tr>\n",
       "      <th>0</th>\n",
       "      <td>2013</td>\n",
       "      <td>05000US01001</td>\n",
       "      <td>20.0</td>\n",
       "      <td>1735.0</td>\n",
       "      <td>21372.0</td>\n",
       "      <td>87.0</td>\n",
       "      <td>157.0</td>\n",
       "      <td>39.0</td>\n",
       "      <td>0.0</td>\n",
       "      <td>224.0</td>\n",
       "      <td>510.0</td>\n",
       "      <td>24144.0</td>\n",
       "    </tr>\n",
       "    <tr>\n",
       "      <th>1</th>\n",
       "      <td>2013</td>\n",
       "      <td>05000US01003</td>\n",
       "      <td>352.0</td>\n",
       "      <td>8046.0</td>\n",
       "      <td>67474.0</td>\n",
       "      <td>187.0</td>\n",
       "      <td>624.0</td>\n",
       "      <td>163.0</td>\n",
       "      <td>11.0</td>\n",
       "      <td>1010.0</td>\n",
       "      <td>2752.0</td>\n",
       "      <td>80619.0</td>\n",
       "    </tr>\n",
       "    <tr>\n",
       "      <th>2</th>\n",
       "      <td>2013</td>\n",
       "      <td>05000US01005</td>\n",
       "      <td>15.0</td>\n",
       "      <td>1113.0</td>\n",
       "      <td>7532.0</td>\n",
       "      <td>0.0</td>\n",
       "      <td>150.0</td>\n",
       "      <td>8.0</td>\n",
       "      <td>0.0</td>\n",
       "      <td>156.0</td>\n",
       "      <td>189.0</td>\n",
       "      <td>9163.0</td>\n",
       "    </tr>\n",
       "    <tr>\n",
       "      <th>3</th>\n",
       "      <td>2013</td>\n",
       "      <td>05000US01007</td>\n",
       "      <td>0.0</td>\n",
       "      <td>1092.0</td>\n",
       "      <td>6528.0</td>\n",
       "      <td>15.0</td>\n",
       "      <td>63.0</td>\n",
       "      <td>13.0</td>\n",
       "      <td>0.0</td>\n",
       "      <td>39.0</td>\n",
       "      <td>95.0</td>\n",
       "      <td>7845.0</td>\n",
       "    </tr>\n",
       "    <tr>\n",
       "      <th>4</th>\n",
       "      <td>2013</td>\n",
       "      <td>05000US01009</td>\n",
       "      <td>0.0</td>\n",
       "      <td>2887.0</td>\n",
       "      <td>18816.0</td>\n",
       "      <td>3.0</td>\n",
       "      <td>69.0</td>\n",
       "      <td>61.0</td>\n",
       "      <td>0.0</td>\n",
       "      <td>242.0</td>\n",
       "      <td>502.0</td>\n",
       "      <td>22580.0</td>\n",
       "    </tr>\n",
       "  </tbody>\n",
       "</table>\n",
       "</div>"
      ],
      "text/plain": [
       "   year           geo  transport_bicycle  transport_carpooled  \\\n",
       "0  2013  05000US01001               20.0               1735.0   \n",
       "1  2013  05000US01003              352.0               8046.0   \n",
       "2  2013  05000US01005               15.0               1113.0   \n",
       "3  2013  05000US01007                0.0               1092.0   \n",
       "4  2013  05000US01009                0.0               2887.0   \n",
       "\n",
       "   transport_drove  transport_motorcycle  transport_other  \\\n",
       "0          21372.0                  87.0            157.0   \n",
       "1          67474.0                 187.0            624.0   \n",
       "2           7532.0                   0.0            150.0   \n",
       "3           6528.0                  15.0             63.0   \n",
       "4          18816.0                   3.0             69.0   \n",
       "\n",
       "   transport_publictrans  transport_taxi  transport_walked  transport_home  \\\n",
       "0                   39.0             0.0             224.0           510.0   \n",
       "1                  163.0            11.0            1010.0          2752.0   \n",
       "2                    8.0             0.0             156.0           189.0   \n",
       "3                   13.0             0.0              39.0            95.0   \n",
       "4                   61.0             0.0             242.0           502.0   \n",
       "\n",
       "   workers  \n",
       "0  24144.0  \n",
       "1  80619.0  \n",
       "2   9163.0  \n",
       "3   7845.0  \n",
       "4  22580.0  "
      ]
     },
     "execution_count": 2,
     "metadata": {},
     "output_type": "execute_result"
    }
   ],
   "source": [
    "modes = 'transport_bicycle,transport_carpooled,transport_drove,transport_motorcycle,transport_other,transport_publictrans,transport_taxi,transport_walked,transport_home,workers'    \n",
    "transport = requests.get('https://api.datausa.io/api/?show=geo&sumlevel=county&required='+modes)\n",
    "\n",
    "\n",
    "pd.DataFrame(transport.json()['data'], columns=transport.json()['headers']).head()"
   ]
  },
  {
   "cell_type": "markdown",
   "metadata": {},
   "source": [
    "https://catalog.data.gov/dataset/national-household-travel-survey-download-data-78e48\n",
    "\n"
   ]
  }
 ],
 "metadata": {
  "kernelspec": {
   "display_name": "Python 3",
   "language": "python",
   "name": "python3"
  },
  "language_info": {
   "codemirror_mode": {
    "name": "ipython",
    "version": 3
   },
   "file_extension": ".py",
   "mimetype": "text/x-python",
   "name": "python",
   "nbconvert_exporter": "python",
   "pygments_lexer": "ipython3",
   "version": "3.6.4"
  }
 },
 "nbformat": 4,
 "nbformat_minor": 2
}
